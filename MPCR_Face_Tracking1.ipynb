{
  "nbformat": 4,
  "nbformat_minor": 0,
  "metadata": {
    "accelerator": "GPU",
    "colab": {
      "name": "MPCR Face Tracking1.ipynb",
      "provenance": [],
      "collapsed_sections": [
        "j7g3-wrfgZ_c"
      ],
      "authorship_tag": "ABX9TyNh9GnEkp6iKbjlO/a84hzm",
      "include_colab_link": true
    },
    "kernelspec": {
      "display_name": "Python 3",
      "name": "python3"
    },
    "language_info": {
      "name": "python"
    }
  },
  "cells": [
    {
      "cell_type": "markdown",
      "metadata": {
        "id": "view-in-github",
        "colab_type": "text"
      },
      "source": [
        "<a href=\"https://colab.research.google.com/github/williamedwardhahn/AEye/blob/main/MPCR_Face_Tracking1.ipynb\" target=\"_parent\"><img src=\"https://colab.research.google.com/assets/colab-badge.svg\" alt=\"Open In Colab\"/></a>"
      ]
    },
    {
      "cell_type": "markdown",
      "metadata": {
        "id": "b7jRDdNHRnE2"
      },
      "source": [
        "# MPCR Face Tracking Team"
      ]
    },
    {
      "cell_type": "code",
      "metadata": {
        "id": "k5RdSMkAy1jY"
      },
      "source": [
        "pip install facenet-pytorch"
      ],
      "execution_count": null,
      "outputs": []
    },
    {
      "cell_type": "code",
      "metadata": {
        "id": "QPfpq43ly2ZQ"
      },
      "source": [
        "from facenet_pytorch import MTCNN\n",
        "from PIL import Image\n",
        "import torch\n",
        "import cv2\n",
        "import time\n",
        "import glob\n",
        "from tqdm.notebook import tqdm\n",
        "import numpy as np\n",
        "import imageio\n",
        "import matplotlib.pyplot as plt\n",
        "import matplotlib.patches as patches\n",
        "\n",
        "device = 'cuda' if torch.cuda.is_available() else 'cpu'"
      ],
      "execution_count": null,
      "outputs": []
    },
    {
      "cell_type": "code",
      "metadata": {
        "id": "L8EeJMrjy2g-"
      },
      "source": [
        "class FastMTCNN(object):\n",
        "    \"\"\"Fast MTCNN implementation.\"\"\"\n",
        "    \n",
        "    def __init__(self, stride, resize=1, *args, **kwargs):\n",
        "        \"\"\"Constructor for FastMTCNN class.\n",
        "        \n",
        "        Arguments:\n",
        "            stride (int): The detection stride. Faces will be detected every `stride` frames\n",
        "                and remembered for `stride-1` frames.\n",
        "        \n",
        "        Keyword arguments:\n",
        "            resize (float): Fractional frame scaling. [default: {1}]\n",
        "            *args: Arguments to pass to the MTCNN constructor. See help(MTCNN).\n",
        "            **kwargs: Keyword arguments to pass to the MTCNN constructor. See help(MTCNN).\n",
        "        \"\"\"\n",
        "        self.stride = stride\n",
        "        self.resize = resize\n",
        "        self.mtcnn = MTCNN(*args, **kwargs)\n",
        "        \n",
        "    def __call__(self, frame):\n",
        "        \"\"\"Detect faces in frames using strided MTCNN.\"\"\"\n",
        "        # if self.resize != 1:\n",
        "        #     frames = [\n",
        "        #         cv2.resize(f, (int(f.shape[1] * self.resize), int(f.shape[0] * self.resize)))\n",
        "        #             for f in frames\n",
        "        #     ]\n",
        "                      \n",
        "        boxes, probs = self.mtcnn.detect(frame)\n",
        "\n",
        "        # faces = []\n",
        "        #     if boxes[box_ind] is None:\n",
        "        #         continue\n",
        "        #     for box in boxes[box_ind]:\n",
        "        #         box = [int(b) for b in box]\n",
        "        #         faces.append(frame[box[1]:box[3], box[0]:box[2]])\n",
        "        \n",
        "        return boxes"
      ],
      "execution_count": null,
      "outputs": []
    },
    {
      "cell_type": "code",
      "metadata": {
        "id": "Q4TCnqh0y2jk"
      },
      "source": [
        "fast_mtcnn = FastMTCNN(\n",
        "    stride=4,\n",
        "    resize=1,\n",
        "    margin=14,\n",
        "    factor=0.6,\n",
        "    keep_all=True,\n",
        "    device=device\n",
        ")"
      ],
      "execution_count": null,
      "outputs": []
    },
    {
      "cell_type": "code",
      "metadata": {
        "id": "fILIGbj1zwFt"
      },
      "source": [
        "def plot(x):\n",
        "    fig, ax = plt.subplots()\n",
        "    im = ax.imshow(x,cmap='gray')\n",
        "    ax.axis('off')\n",
        "    fig.set_size_inches(20, 20)\n",
        "    plt.show()"
      ],
      "execution_count": null,
      "outputs": []
    },
    {
      "cell_type": "code",
      "metadata": {
        "id": "05DQuSrWzwFu"
      },
      "source": [
        "im = imageio.imread('https://cdn.psychologytoday.com/sites/default/files/styles/article-inline-half-caption/public/field_blog_entry_images/2018-09/shutterstock_648907024.jpg')[:,:,:3]"
      ],
      "execution_count": null,
      "outputs": []
    },
    {
      "cell_type": "code",
      "metadata": {
        "id": "1ZpbCvIczwFv"
      },
      "source": [
        "plot(im)"
      ],
      "execution_count": null,
      "outputs": []
    },
    {
      "cell_type": "code",
      "metadata": {
        "id": "yN-BidLby2rq"
      },
      "source": [
        "%%timeit\n",
        "boxes = fast_mtcnn(im)"
      ],
      "execution_count": null,
      "outputs": []
    },
    {
      "cell_type": "code",
      "metadata": {
        "id": "paoBJiDYy2mP"
      },
      "source": [
        "boxes = fast_mtcnn(im)"
      ],
      "execution_count": null,
      "outputs": []
    },
    {
      "cell_type": "code",
      "metadata": {
        "id": "A2lTwoCSy2o9"
      },
      "source": [
        "boxes"
      ],
      "execution_count": null,
      "outputs": []
    },
    {
      "cell_type": "code",
      "metadata": {
        "id": "TtZphmJSy2ub"
      },
      "source": [
        "plt.imshow(im)"
      ],
      "execution_count": null,
      "outputs": []
    },
    {
      "cell_type": "code",
      "metadata": {
        "id": "ZFSv-hKcQRMl"
      },
      "source": [
        "x1,y1,x2,y2 = np.array(boxes[0]).astype(int)\n",
        "w = x2 - x1\n",
        "h = y2 - y1\n",
        "\n",
        "img = im[y1:y1+h,x1:x1+w] "
      ],
      "execution_count": null,
      "outputs": []
    },
    {
      "cell_type": "code",
      "metadata": {
        "id": "znGJ7k4gQRPQ"
      },
      "source": [
        "plot(img)"
      ],
      "execution_count": null,
      "outputs": []
    },
    {
      "cell_type": "code",
      "metadata": {
        "id": "6HoBDQixcq5r"
      },
      "source": [
        "s = img.shape[0]//6\n",
        "\n",
        "img = img[2*s:3*s]"
      ],
      "execution_count": null,
      "outputs": []
    },
    {
      "cell_type": "code",
      "metadata": {
        "id": "MFPOedwAcqzD"
      },
      "source": [
        "plot(img)"
      ],
      "execution_count": null,
      "outputs": []
    },
    {
      "cell_type": "code",
      "metadata": {
        "id": "FyrYsM-3QRUf"
      },
      "source": [
        ""
      ],
      "execution_count": null,
      "outputs": []
    },
    {
      "cell_type": "code",
      "metadata": {
        "id": "pK8c5l_BgYxF"
      },
      "source": [
        "# Live Demo"
      ],
      "execution_count": null,
      "outputs": []
    },
    {
      "cell_type": "code",
      "metadata": {
        "id": "974_n4rfiIea"
      },
      "source": [
        "from PIL import Image\n",
        "import base64\n",
        "from io import BytesIO\n",
        "from IPython.display import display, Javascript\n",
        "from google.colab.output import eval_js\n",
        "from base64 import b64decode"
      ],
      "execution_count": null,
      "outputs": []
    },
    {
      "cell_type": "code",
      "metadata": {
        "id": "koiz2cERiIeX"
      },
      "source": [
        "def take_photo(filename='photo.jpg', quality=0.8):\n",
        "  js = Javascript('''\n",
        "    async function takePhoto(quality) {\n",
        "      const div = document.createElement('div');\n",
        "\n",
        "      const video = document.createElement('video');\n",
        "      video.style.display = 'block';\n",
        "      const stream = await navigator.mediaDevices.getUserMedia({video: true});\n",
        "\n",
        "      document.body.appendChild(div);\n",
        "      div.appendChild(video);\n",
        "      video.srcObject = stream;\n",
        "      await video.play();\n",
        "\n",
        "      // Resize the output to fit the video element.\n",
        "      google.colab.output.setIframeHeight(document.documentElement.scrollHeight, true);\n",
        "\n",
        "      // Wait for Capture to be clicked.\n",
        "    //   await new Promise((resolve) => capture.onclick = resolve);\n",
        "      await new Promise(r => setTimeout(r, 2000));\n",
        "\n",
        "\n",
        "\n",
        "      const canvas = document.createElement('canvas');\n",
        "      canvas.width = video.videoWidth;\n",
        "      canvas.height = video.videoHeight;\n",
        "      canvas.getContext('2d').drawImage(video, 0, 0);\n",
        "      stream.getVideoTracks()[0].stop();\n",
        "      div.remove();\n",
        "      return canvas.toDataURL('image/jpeg', quality);\n",
        "    }\n",
        "    ''')\n",
        "  \n",
        "  display(js)\n",
        "  data = eval_js('takePhoto({})'.format(quality))\n",
        "  binary = b64decode(data.split(',')[1])\n",
        "\n",
        "  img = Image.open(BytesIO(binary))\n",
        "  img = np.asarray(img)\n",
        "\n",
        "  return img"
      ],
      "execution_count": null,
      "outputs": []
    },
    {
      "cell_type": "code",
      "metadata": {
        "id": "RRTxdf2HnHR9"
      },
      "source": [
        "for i in range(3):\n",
        "    img = take_photo()\n",
        "    plot(img)"
      ],
      "execution_count": null,
      "outputs": []
    },
    {
      "cell_type": "code",
      "metadata": {
        "id": "yyg9ghBPgY7_"
      },
      "source": [
        "# for i in range(3):\n",
        "#     img = take_photo()\n",
        "\n",
        "#     boxes = fast_mtcnn(img)\n",
        "\n",
        "#     x1,y1,x2,y2 = np.array(boxes[0]).astype(int)\n",
        "#     w = x2 - x1\n",
        "#     h = y2 - y1\n",
        "\n",
        "#     img = img[y1:y1+h,x1:x1+w]\n",
        "\n",
        "#     s = img.shape[0]//6\n",
        "\n",
        "#     img = img[2*s:3*s]\n",
        "\n",
        "#     plot(img)"
      ],
      "execution_count": null,
      "outputs": []
    },
    {
      "cell_type": "code",
      "metadata": {
        "id": "5IDSAFowcoLP"
      },
      "source": [
        ""
      ],
      "execution_count": null,
      "outputs": []
    },
    {
      "cell_type": "code",
      "metadata": {
        "id": "od3fU_HDpLlA"
      },
      "source": [
        "img = take_photo()"
      ],
      "execution_count": null,
      "outputs": []
    },
    {
      "cell_type": "code",
      "metadata": {
        "id": "dwC7wK0qcR77"
      },
      "source": [
        "boxes = fast_mtcnn(img)\n",
        "\n",
        "x1,y1,x2,y2 = np.array(boxes[0]).astype(int)\n",
        "w = x2 - x1\n",
        "h = y2 - y1\n",
        "\n",
        "img = img[y1:y1+h,x1:x1+w]\n",
        "\n",
        "s = img.shape[0]//6\n",
        "\n",
        "img = img[2*s:3*s]\n",
        "\n",
        "plot(img)"
      ],
      "execution_count": null,
      "outputs": []
    },
    {
      "cell_type": "code",
      "metadata": {
        "id": "awaAtS7BpLlc"
      },
      "source": [
        ""
      ],
      "execution_count": null,
      "outputs": []
    },
    {
      "cell_type": "code",
      "metadata": {
        "id": "T2oTiZeupLld"
      },
      "source": [
        ""
      ],
      "execution_count": null,
      "outputs": []
    },
    {
      "cell_type": "code",
      "metadata": {
        "id": "pib9joUlQRYv"
      },
      "source": [
        ""
      ],
      "execution_count": null,
      "outputs": []
    },
    {
      "cell_type": "code",
      "metadata": {
        "id": "qFynHxMhQRbQ"
      },
      "source": [
        ""
      ],
      "execution_count": null,
      "outputs": []
    },
    {
      "cell_type": "code",
      "metadata": {
        "id": "V90oe4x4QRdU"
      },
      "source": [
        ""
      ],
      "execution_count": null,
      "outputs": []
    }
  ]
}